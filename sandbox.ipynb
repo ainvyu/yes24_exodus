{
 "cells": [
  {
   "cell_type": "code",
   "execution_count": 2,
   "metadata": {
    "collapsed": false
   },
   "outputs": [
    {
     "name": "stdout",
     "output_type": "stream",
     "text": [
      "<RequestsCookieJar[<Cookie AladdinLogin=RMhOf8HLgQudzzY40Sa8Ug%3d%3d&t=sKk%2folZV%2bfRWzGo6W8WwBw%3d%3d for .aladin.co.kr/>, <Cookie AladdinLoginSNS= for .aladin.co.kr/>, <Cookie AladdinSession=UID=448921576&SID=2TUKsD9MVd6u%2b8utQ7r3kQ%3d%3d for .aladin.co.kr/>, <Cookie AladdinUS=RMhOf8HLgQudzzY40Sa8Ug%3d%3d&USA=0 for .aladin.co.kr/>, <Cookie AladdinUser=UID=448921576&SID=2TUKsD9MVd6u%2b8utQ7r3kQ%3d%3d for .aladin.co.kr/>, <Cookie SaveEmail= for .aladin.co.kr/>, <Cookie SavePwd= for .aladin.co.kr/>]>\n"
     ]
    },
    {
     "data": {
      "text/plain": [
       "184"
      ]
     },
     "execution_count": 2,
     "metadata": {},
     "output_type": "execute_result"
    }
   ],
   "source": [
    "import ConfigParser\n",
    "import os\n",
    "import re\n",
    "\n",
    "default_config_file = 'conf/config.ini'\n",
    "\n",
    "config = ConfigParser.ConfigParser()\n",
    "assert isinstance(config, ConfigParser.ConfigParser)\n",
    "\n",
    "config.read(default_config_file)\n",
    "\n",
    "\n",
    "from lib.aladin import AladinAccessor\n",
    "\n",
    "aladin_accessor = AladinAccessor()\n",
    "aladin_accessor.login(login_id=config.get('aladin', 'id'),\n",
    "                      password=config.get('aladin', 'password'))\n",
    "\n",
    "len(aladin_accessor.get_after_order_items())"
   ]
  },
  {
   "cell_type": "code",
   "execution_count": 38,
   "metadata": {
    "collapsed": false,
    "scrolled": true
   },
   "outputs": [
    {
     "ename": "AttributeError",
     "evalue": "'NoneType' object has no attribute 'group'",
     "output_type": "error",
     "traceback": [
      "\u001b[0;31m---------------------------------------------------------------------------\u001b[0m",
      "\u001b[0;31mAttributeError\u001b[0m                            Traceback (most recent call last)",
      "\u001b[0;32m<ipython-input-38-346c08ae00b6>\u001b[0m in \u001b[0;36m<module>\u001b[0;34m()\u001b[0m\n\u001b[1;32m      1\u001b[0m \u001b[0mtest_str\u001b[0m \u001b[0;34m=\u001b[0m \u001b[0;34m\"aaaa<a href=\\\"http://www.aladin.co.kr/shop/wproduct.aspx?ItemId=89571951\\\">Redis \\ud575\\uc2ec\\uc815\\ub9ac</a><br />abcd\"\u001b[0m\u001b[0;34m\u001b[0m\u001b[0m\n\u001b[1;32m      2\u001b[0m \u001b[0mm\u001b[0m \u001b[0;34m=\u001b[0m \u001b[0mre\u001b[0m\u001b[0;34m.\u001b[0m\u001b[0mmatch\u001b[0m\u001b[0;34m(\u001b[0m\u001b[0;34m'\\<a href=\"(.*)?\"\\>(.*)?\\</a\\>\\<br /\\>.*'\u001b[0m\u001b[0;34m,\u001b[0m \u001b[0mtest_str\u001b[0m\u001b[0;34m)\u001b[0m\u001b[0;34m\u001b[0m\u001b[0m\n\u001b[0;32m----> 3\u001b[0;31m \u001b[0;32mprint\u001b[0m\u001b[0;34m(\u001b[0m\u001b[0mm\u001b[0m\u001b[0;34m.\u001b[0m\u001b[0mgroup\u001b[0m\u001b[0;34m(\u001b[0m\u001b[0;36m1\u001b[0m\u001b[0;34m)\u001b[0m\u001b[0;34m)\u001b[0m\u001b[0;34m\u001b[0m\u001b[0m\n\u001b[0m",
      "\u001b[0;31mAttributeError\u001b[0m: 'NoneType' object has no attribute 'group'"
     ]
    }
   ],
   "source": [
    "test_str = \"aaaa<a href=\\\"http://www.aladin.co.kr/shop/wproduct.aspx?ItemId=89571951\\\">Redis \\ud575\\uc2ec\\uc815\\ub9ac</a><br />abcd\"\n",
    "m = re.match('\\<a href=\"(.*)?\"\\>(.*)?\\</a\\>\\<br /\\>.*', test_str)\n",
    "print(m.group(1))"
   ]
  },
  {
   "cell_type": "code",
   "execution_count": 38,
   "metadata": {
    "collapsed": false
   },
   "outputs": [
    {
     "data": {
      "text/plain": [
       "[('1', 'b'), ('0', 'a')]"
      ]
     },
     "execution_count": 38,
     "metadata": {},
     "output_type": "execute_result"
    }
   ],
   "source": [
    "test = {\n",
    "    '0': 'a',\n",
    "    '1': 'b'\n",
    "}\n",
    "\n",
    "map(lambda item: item, test.iteritems())"
   ]
  },
  {
   "cell_type": "code",
   "execution_count": 42,
   "metadata": {
    "collapsed": false
   },
   "outputs": [
    {
     "data": {
      "text/plain": [
       "48"
      ]
     },
     "execution_count": 42,
     "metadata": {},
     "output_type": "execute_result"
    }
   ],
   "source": [
    "from collections import namedtuple\n",
    "from lib.bookstore_accessor import BookItem\n",
    "\n",
    "doc = aladin_accessor._get_after_order_item_page_doc(0, 48)\n",
    "links = doc.find_all('a')\n",
    "target_href_prefix = 'http://www.aladin.co.kr/shop/wproduct.aspx?ItemId='\n",
    "target_links = map(lambda item: BookItem(url=item[0], title=item[1]),\n",
    "    dict(\n",
    "        filter(lambda item: item[0].startswith(target_href_prefix), \n",
    "               map(lambda link: (link['href'], link.text), links)\n",
    "              )\n",
    "    ).items()\n",
    ")\n",
    "len(target_links)"
   ]
  },
  {
   "cell_type": "code",
   "execution_count": 6,
   "metadata": {
    "collapsed": false
   },
   "outputs": [
    {
     "ename": "WebDriverException",
     "evalue": "Message: Can't load the profile. Profile Dir: /var/folders/nj/6xh3j1fj0ks2knynr5phc8d40000gn/T/tmpx0DPI5 If you specified a log_file in the FirefoxBinary constructor, check it for details.\n",
     "output_type": "error",
     "traceback": [
      "\u001b[0;31m---------------------------------------------------------------------------\u001b[0m",
      "\u001b[0;31mWebDriverException\u001b[0m                        Traceback (most recent call last)",
      "\u001b[0;32m<ipython-input-6-67dd2f9158d2>\u001b[0m in \u001b[0;36m<module>\u001b[0;34m()\u001b[0m\n\u001b[1;32m      4\u001b[0m \u001b[0;32mfrom\u001b[0m \u001b[0mbs4\u001b[0m \u001b[0;32mimport\u001b[0m \u001b[0mBeautifulSoup\u001b[0m\u001b[0;34m\u001b[0m\u001b[0m\n\u001b[1;32m      5\u001b[0m \u001b[0;34m\u001b[0m\u001b[0m\n\u001b[0;32m----> 6\u001b[0;31m \u001b[0mbrowser\u001b[0m \u001b[0;34m=\u001b[0m \u001b[0mwebdriver\u001b[0m\u001b[0;34m.\u001b[0m\u001b[0mFirefox\u001b[0m\u001b[0;34m(\u001b[0m\u001b[0;34m)\u001b[0m\u001b[0;34m\u001b[0m\u001b[0m\n\u001b[0m",
      "\u001b[0;32m/Users/eniv/.virtualenvs/bookstore/lib/python2.7/site-packages/selenium/webdriver/firefox/webdriver.pyc\u001b[0m in \u001b[0;36m__init__\u001b[0;34m(self, firefox_profile, firefox_binary, timeout, capabilities, proxy, executable_path, firefox_options)\u001b[0m\n\u001b[1;32m     78\u001b[0m \u001b[0;34m\u001b[0m\u001b[0m\n\u001b[1;32m     79\u001b[0m             executor = ExtensionConnection(\"127.0.0.1\", self.profile,\n\u001b[0;32m---> 80\u001b[0;31m                                            self.binary, timeout)\n\u001b[0m\u001b[1;32m     81\u001b[0m             RemoteWebDriver.__init__(\n\u001b[1;32m     82\u001b[0m                 \u001b[0mself\u001b[0m\u001b[0;34m,\u001b[0m\u001b[0;34m\u001b[0m\u001b[0m\n",
      "\u001b[0;32m/Users/eniv/.virtualenvs/bookstore/lib/python2.7/site-packages/selenium/webdriver/firefox/extension_connection.pyc\u001b[0m in \u001b[0;36m__init__\u001b[0;34m(self, host, firefox_profile, firefox_binary, timeout)\u001b[0m\n\u001b[1;32m     50\u001b[0m         \u001b[0mself\u001b[0m\u001b[0;34m.\u001b[0m\u001b[0mprofile\u001b[0m\u001b[0;34m.\u001b[0m\u001b[0madd_extension\u001b[0m\u001b[0;34m(\u001b[0m\u001b[0;34m)\u001b[0m\u001b[0;34m\u001b[0m\u001b[0m\n\u001b[1;32m     51\u001b[0m \u001b[0;34m\u001b[0m\u001b[0m\n\u001b[0;32m---> 52\u001b[0;31m         \u001b[0mself\u001b[0m\u001b[0;34m.\u001b[0m\u001b[0mbinary\u001b[0m\u001b[0;34m.\u001b[0m\u001b[0mlaunch_browser\u001b[0m\u001b[0;34m(\u001b[0m\u001b[0mself\u001b[0m\u001b[0;34m.\u001b[0m\u001b[0mprofile\u001b[0m\u001b[0;34m,\u001b[0m \u001b[0mtimeout\u001b[0m\u001b[0;34m=\u001b[0m\u001b[0mtimeout\u001b[0m\u001b[0;34m)\u001b[0m\u001b[0;34m\u001b[0m\u001b[0m\n\u001b[0m\u001b[1;32m     53\u001b[0m         \u001b[0m_URL\u001b[0m \u001b[0;34m=\u001b[0m \u001b[0;34m\"http://%s:%d/hub\"\u001b[0m \u001b[0;34m%\u001b[0m \u001b[0;34m(\u001b[0m\u001b[0mHOST\u001b[0m\u001b[0;34m,\u001b[0m \u001b[0mPORT\u001b[0m\u001b[0;34m)\u001b[0m\u001b[0;34m\u001b[0m\u001b[0m\n\u001b[1;32m     54\u001b[0m         RemoteConnection.__init__(\n",
      "\u001b[0;32m/Users/eniv/.virtualenvs/bookstore/lib/python2.7/site-packages/selenium/webdriver/firefox/firefox_binary.pyc\u001b[0m in \u001b[0;36mlaunch_browser\u001b[0;34m(self, profile, timeout)\u001b[0m\n\u001b[1;32m     66\u001b[0m \u001b[0;34m\u001b[0m\u001b[0m\n\u001b[1;32m     67\u001b[0m         \u001b[0mself\u001b[0m\u001b[0;34m.\u001b[0m\u001b[0m_start_from_profile_path\u001b[0m\u001b[0;34m(\u001b[0m\u001b[0mself\u001b[0m\u001b[0;34m.\u001b[0m\u001b[0mprofile\u001b[0m\u001b[0;34m.\u001b[0m\u001b[0mpath\u001b[0m\u001b[0;34m)\u001b[0m\u001b[0;34m\u001b[0m\u001b[0m\n\u001b[0;32m---> 68\u001b[0;31m         \u001b[0mself\u001b[0m\u001b[0;34m.\u001b[0m\u001b[0m_wait_until_connectable\u001b[0m\u001b[0;34m(\u001b[0m\u001b[0mtimeout\u001b[0m\u001b[0;34m=\u001b[0m\u001b[0mtimeout\u001b[0m\u001b[0;34m)\u001b[0m\u001b[0;34m\u001b[0m\u001b[0m\n\u001b[0m\u001b[1;32m     69\u001b[0m \u001b[0;34m\u001b[0m\u001b[0m\n\u001b[1;32m     70\u001b[0m     \u001b[0;32mdef\u001b[0m \u001b[0mkill\u001b[0m\u001b[0;34m(\u001b[0m\u001b[0mself\u001b[0m\u001b[0;34m)\u001b[0m\u001b[0;34m:\u001b[0m\u001b[0;34m\u001b[0m\u001b[0m\n",
      "\u001b[0;32m/Users/eniv/.virtualenvs/bookstore/lib/python2.7/site-packages/selenium/webdriver/firefox/firefox_binary.pyc\u001b[0m in \u001b[0;36m_wait_until_connectable\u001b[0;34m(self, timeout)\u001b[0m\n\u001b[1;32m    106\u001b[0m                     \u001b[0;34m\"Dir: %s If you specified a log_file in the \"\u001b[0m\u001b[0;34m\u001b[0m\u001b[0m\n\u001b[1;32m    107\u001b[0m                     \u001b[0;34m\"FirefoxBinary constructor, check it for details.\"\u001b[0m\u001b[0;34m\u001b[0m\u001b[0m\n\u001b[0;32m--> 108\u001b[0;31m                     % (self.profile.path))\n\u001b[0m\u001b[1;32m    109\u001b[0m             \u001b[0mcount\u001b[0m \u001b[0;34m+=\u001b[0m \u001b[0;36m1\u001b[0m\u001b[0;34m\u001b[0m\u001b[0m\n\u001b[1;32m    110\u001b[0m             \u001b[0mtime\u001b[0m\u001b[0;34m.\u001b[0m\u001b[0msleep\u001b[0m\u001b[0;34m(\u001b[0m\u001b[0;36m1\u001b[0m\u001b[0;34m)\u001b[0m\u001b[0;34m\u001b[0m\u001b[0m\n",
      "\u001b[0;31mWebDriverException\u001b[0m: Message: Can't load the profile. Profile Dir: /var/folders/nj/6xh3j1fj0ks2knynr5phc8d40000gn/T/tmpx0DPI5 If you specified a log_file in the FirefoxBinary constructor, check it for details.\n"
     ]
    }
   ],
   "source": [
    "from selenium import webdriver  \n",
    "from selenium.common.exceptions import NoSuchElementException  \n",
    "from selenium.webdriver.common.keys import Keys  \n",
    "from bs4 import BeautifulSoup\n",
    "\n",
    "browser = webdriver.Firefox()"
   ]
  }
 ],
 "metadata": {
  "kernelspec": {
   "display_name": "Python 2",
   "language": "python",
   "name": "python2"
  },
  "language_info": {
   "codemirror_mode": {
    "name": "ipython",
    "version": 2
   },
   "file_extension": ".py",
   "mimetype": "text/x-python",
   "name": "python",
   "nbconvert_exporter": "python",
   "pygments_lexer": "ipython2",
   "version": "2.7.10"
  }
 },
 "nbformat": 4,
 "nbformat_minor": 1
}
